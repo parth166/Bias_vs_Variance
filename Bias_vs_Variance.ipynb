{
 "cells": [
  {
   "cell_type": "code",
   "execution_count": 514,
   "id": "e7038133",
   "metadata": {},
   "outputs": [],
   "source": [
    "import pandas as pd\n",
    "import numpy as np\n",
    "import os\n",
    "import matplotlib.pyplot as plt\n",
    "import math\n",
    "from scipy.io import loadmat\n",
    "from scipy.optimize import fmin_cg\n"
   ]
  },
  {
   "cell_type": "code",
   "execution_count": 515,
   "id": "d6378c77",
   "metadata": {},
   "outputs": [],
   "source": [
    "'''\n",
    "    Cost Function\n",
    "    \n",
    "    This function computes the cost using the squared error function for linear regression.\n",
    "''' \n",
    "def linearRegCostFunction(theta, X, y, lambda_):\n",
    "    theta = theta.reshape(-1,1);\n",
    "    m = X.shape[0]\n",
    "    \n",
    "    h = X@theta;\n",
    "    \n",
    "    J = np.mean((1/(2*m)) * ((h-y).T@(h-y)) + (lambda_/(2*m)) * theta[1:].T@theta[1:]);\n",
    "    \n",
    "    grad = (X.T@(h-y))/m + ((lambda_/m) * np.vstack((np.zeros(1), theta[1:])));\n",
    "    return J, grad.ravel();"
   ]
  },
  {
   "cell_type": "code",
   "execution_count": 534,
   "id": "2d63551e",
   "metadata": {},
   "outputs": [],
   "source": [
    "def trainLinearReg(X,y,lambda_,maxiter=200):\n",
    "    theta = np.zeros(X.shape[1]);\n",
    "    \n",
    "    cost_function = lambda p, y: linearRegCostFunction(p, X, y, lambda_)[0]\n",
    "    grad_function = lambda p, y: linearRegCostFunction(p, X, y, lambda_)[1]\n",
    "    \n",
    "    return fmin_cg(cost_function, theta.flatten(), fprime=grad_function,\n",
    "                    args=(y,), maxiter=maxiter, disp=False);\n"
   ]
  },
  {
   "cell_type": "code",
   "execution_count": 535,
   "id": "e4614dfb",
   "metadata": {},
   "outputs": [],
   "source": [
    "'''\n",
    "    Loading the dataset\n",
    "'''    \n",
    "mat = loadmat('ex5data1.mat')\n",
    "\n",
    "X_train = np.array(pd.DataFrame(mat['X']));\n",
    "y_train = np.array(pd.DataFrame(mat['y']));\n",
    "\n",
    "X_test = np.array(pd.DataFrame(mat['Xtest']));\n",
    "y_test = np.array(pd.DataFrame(mat['ytest']));\n",
    "\n",
    "X_val = np.array(pd.DataFrame(mat['Xval']));\n",
    "y_val = np.array(pd.DataFrame(mat['yval']));\n",
    "\n",
    "initial_theta = np.array([1,1]).reshape(-1,1);"
   ]
  },
  {
   "cell_type": "code",
   "execution_count": 536,
   "id": "7ed0293d",
   "metadata": {},
   "outputs": [
    {
     "data": {
      "image/png": "[encoded data removed]",
      "text/plain": [
       "<Figure size 432x360 with 1 Axes>"
      ]
     },
     "metadata": {
      "needs_background": "light"
     },
     "output_type": "display_data"
    }
   ],
   "source": [
    "'''\n",
    "    Visual representation of dataset\n",
    "'''\n",
    "plt.figure(figsize=(6,5))\n",
    "plt.plot(X, y, color='red', marker='+', linestyle=\"None\");\n",
    "plt.xlim(-60,55);\n",
    "plt.ylim(-10,45);\n",
    "plt.xlabel(\"Change in water level (x)\");\n",
    "plt.ylabel(\"Water flowing out of the dam (y)\"); "
   ]
  },
  {
   "cell_type": "code",
   "execution_count": 537,
   "id": "e5c43162",
   "metadata": {},
   "outputs": [
    {
     "name": "stdout",
     "output_type": "stream",
     "text": [
      "303.9931922202643\n"
     ]
    }
   ],
   "source": [
    "theta = np.array([1, 1]).reshape(-1,1);\n",
    "training_set = np.concatenate([np.ones((X.shape[0], 1)), X], axis=1);\n",
    "cost, grad = linearRegCostFunction(theta, training_set, y_train, 1);\n",
    "\n",
    "print(cost)"
   ]
  },
  {
   "cell_type": "markdown",
   "id": "6d134882",
   "metadata": {},
   "source": [
    "Expected cost function value : 303.993192"
   ]
  },
  {
   "cell_type": "code",
   "execution_count": 538,
   "id": "535e23ef",
   "metadata": {},
   "outputs": [
    {
     "name": "stdout",
     "output_type": "stream",
     "text": [
      "[-15.30301567 598.25074417]\n"
     ]
    }
   ],
   "source": [
    "print(grad)"
   ]
  },
  {
   "cell_type": "markdown",
   "id": "8ed4a249",
   "metadata": {},
   "source": [
    "(this value should be about [-15.303016; 598.250744])"
   ]
  },
  {
   "cell_type": "code",
   "execution_count": 539,
   "id": "fed9a2bf",
   "metadata": {},
   "outputs": [
    {
     "name": "stdout",
     "output_type": "stream",
     "text": [
      "[[13.08790351]\n",
      " [ 0.36777923]]\n"
     ]
    }
   ],
   "source": [
    "m = X_train.shape[0];\n",
    "Xtrain = np.concatenate([np.ones((m,1)), X_train], axis=1);\n",
    "theta = trainLinearReg(Xtrain,y_train,0).reshape(-1,1);\n",
    "print(theta)"
   ]
  },
  {
   "cell_type": "markdown",
   "id": "6226a6e8",
   "metadata": {},
   "source": [
    "Expected value should be: [13.087903  0.367779]"
   ]
  },
  {
   "cell_type": "code",
   "execution_count": 540,
   "id": "2d556273",
   "metadata": {},
   "outputs": [
    {
     "data": {
      "image/png": "[encoded data removed]",
      "text/plain": [
       "<Figure size 432x360 with 1 Axes>"
      ]
     },
     "metadata": {
      "needs_background": "light"
     },
     "output_type": "display_data"
    }
   ],
   "source": [
    "plt.figure(figsize=(6,5))\n",
    "plt.plot(X, y, color='red', marker='+', linestyle=\"None\");\n",
    "plt.xlim(-60,55);\n",
    "plt.ylim(-10,45);\n",
    "plt.xlabel(\"Change in water level (x)\");\n",
    "plt.ylabel(\"Water flowing out of the dam (y)\");\n",
    "\n",
    "X_aug = np.concatenate([np.ones((m, 1)), X], axis=1)\n",
    "plt.plot(X, X_aug@theta, '--', lw=2);"
   ]
  },
  {
   "cell_type": "code",
   "execution_count": 541,
   "id": "b0db8631",
   "metadata": {},
   "outputs": [],
   "source": [
    "def learningCurve(Xtrain, ytrain, Xval, yval, lambda_):\n",
    "    m = ytrain.size;\n",
    "    \n",
    "    error_train = np.zeros((m,1));\n",
    "    error_val = np.zeros((m,1));\n",
    "    \n",
    "    for i in range(1,m+1):\n",
    "        theta = trainLinearReg(Xtrain[:i],ytrain[:i],lambda_);\n",
    "        \n",
    "        J, grad = linearRegCostFunction(theta, Xtrain[:i], ytrain[:i], 0);\n",
    "        error_train[i-1] = J;\n",
    "        \n",
    "        J, grad = linearRegCostFunction(theta, Xval, yval, 0);\n",
    "        error_val[i-1] = J;\n",
    "        \n",
    "    return error_train, error_val;"
   ]
  },
  {
   "cell_type": "code",
   "execution_count": 542,
   "id": "3fa7535a",
   "metadata": {},
   "outputs": [
    {
     "name": "stdout",
     "output_type": "stream",
     "text": [
      "[[3.94430453e-31]\n",
      " [2.85962078e-30]\n",
      " [3.28659505e+00]\n",
      " [2.84267769e+00]\n",
      " [1.31540488e+01]\n",
      " [1.94439625e+01]\n",
      " [2.00985217e+01]\n",
      " [1.81728587e+01]\n",
      " [2.26094054e+01]\n",
      " [2.32614616e+01]\n",
      " [2.43172496e+01]\n",
      " [2.23739065e+01]]\n",
      "[[205.12109575]\n",
      " [110.30036611]\n",
      " [ 45.01023181]\n",
      " [ 48.36891137]\n",
      " [ 35.86514112]\n",
      " [ 33.82995682]\n",
      " [ 31.97098678]\n",
      " [ 30.86244632]\n",
      " [ 31.13599796]\n",
      " [ 28.93620747]\n",
      " [ 29.55143162]\n",
      " [ 29.43381813]]\n"
     ]
    }
   ],
   "source": [
    "lambda_ = 0;\n",
    "\n",
    "X_augval = np.concatenate([np.ones((X_val.shape[0], 1)), X_val], axis=1);\n",
    "\n",
    "error_train, error_val = learningCurve(X_aug, y_train, X_augval, y_val, lambda_);\n",
    "\n",
    "print(error_train);\n",
    "print(error_val);"
   ]
  },
  {
   "cell_type": "code",
   "execution_count": 543,
   "id": "6b3b2d7d",
   "metadata": {},
   "outputs": [
    {
     "data": {
      "text/plain": [
       "(0.0, 13.0, 0.0, 150.0)"
      ]
     },
     "execution_count": 543,
     "metadata": {},
     "output_type": "execute_result"
    },
    {
     "data": {
      "image/png": "[encoded data removed]",
      "text/plain": [
       "<Figure size 432x288 with 1 Axes>"
      ]
     },
     "metadata": {
      "needs_background": "light"
     },
     "output_type": "display_data"
    }
   ],
   "source": [
    "plt.plot(np.arange(1, m+1),error_train, np.arange(1, m+1), error_val, lw =2)\n",
    "plt.title('Learning curve for linear regression')\n",
    "plt.legend(['Train', 'Cross Validation'])\n",
    "plt.xlabel('Number of training examples')\n",
    "plt.ylabel('Error')\n",
    "plt.axis([0, 13, 0, 150])"
   ]
  },
  {
   "cell_type": "code",
   "execution_count": 544,
   "id": "ef16c340",
   "metadata": {},
   "outputs": [],
   "source": [
    "def getPolynomialFeatures(X, p):\n",
    "    X_poly = np.zeros((X.shape[0], p));\n",
    "    \n",
    "    for i in range(X.shape[0]):\n",
    "        for j in range(1, p+1):\n",
    "            X_poly[i][j-1] = X[i]**j;\n",
    "    \n",
    "    return X_poly;"
   ]
  },
  {
   "cell_type": "code",
   "execution_count": 545,
   "id": "c362ee0f",
   "metadata": {},
   "outputs": [],
   "source": [
    "def normalizeFeatures(X):\n",
    "    mu = np.mean(X, axis=0)\n",
    "    X_norm = X - mu\n",
    "\n",
    "    sigma = np.std(X_norm, axis=0, ddof=1)\n",
    "    X_norm /= sigma\n",
    "    return X_norm, mu, sigma;"
   ]
  },
  {
   "cell_type": "code",
   "execution_count": 546,
   "id": "337c94fe",
   "metadata": {},
   "outputs": [
    {
     "name": "stdout",
     "output_type": "stream",
     "text": [
      "Normalized Training Example 1:\n"
     ]
    },
    {
     "data": {
      "text/plain": [
       "array([ 1.        , -0.36214078, -0.75508669,  0.18222588, -0.70618991,\n",
       "        0.30661792, -0.59087767,  0.3445158 , -0.50848117])"
      ]
     },
     "execution_count": 546,
     "metadata": {},
     "output_type": "execute_result"
    }
   ],
   "source": [
    "'''\n",
    "    Polynomial regression and understanding bias vs variance tradeoff\n",
    "'''\n",
    "\n",
    "p = 8\n",
    "\n",
    "# Map X onto Polynomial Features and Normalize\n",
    "X_poly = getPolynomialFeatures(X_train, p)\n",
    "X_poly, mu, sigma = normalizeFeatures(X_poly)\n",
    "\n",
    "X_poly = np.concatenate([np.ones((X_poly.shape[0], 1)), X_poly], axis=1)\n",
    "\n",
    "# Map X_poly_test and normalize (using mu and sigma)\n",
    "X_poly_test = getPolynomialFeatures(X_test, p)\n",
    "X_poly_test -= mu\n",
    "X_poly_test /= sigma\n",
    "X_poly_test = np.concatenate([np.ones((y_test.size, 1)), X_poly_test], axis=1)\n",
    "\n",
    "# Map X_poly_val and normalize (using mu and sigma)\n",
    "X_poly_val = getPolynomialFeatures(X_val, p)\n",
    "X_poly_val -= mu\n",
    "X_poly_val /= sigma\n",
    "X_poly_val = np.concatenate([np.ones((y_val.size, 1)), X_poly_val], axis=1)\n",
    "\n",
    "print('Normalized Training Example 1:')\n",
    "X_poly[0, :]"
   ]
  },
  {
   "cell_type": "markdown",
   "id": "089f5aa2",
   "metadata": {},
   "source": [
    "Expected output: <br>\n",
    "    1.000000 <br>\n",
    "  -0.362141  \n",
    "  -0.755087  \n",
    "  0.182226  \n",
    "  -0.706190  \n",
    "  0.306618  \n",
    "  -0.590878  \n",
    "  0.344516  \n",
    "  -0.508481 "
   ]
  },
  {
   "cell_type": "code",
   "execution_count": 547,
   "id": "77862a11",
   "metadata": {},
   "outputs": [],
   "source": [
    "def plotFit(min_x, max_x, mu, sigma, theta, p):\n",
    "    '''\n",
    "    min_x : float\n",
    "        The minimum value for the feature.\n",
    "    max_x : float\n",
    "        The maximum value for the feature.\n",
    "    mu : float\n",
    "        The mean feature value over the training dataset.\n",
    "    sigma : float\n",
    "        The feature standard deviation of the training dataset.\n",
    "    theta : array_like\n",
    "        The parameters for the trained polynomial linear regression.\n",
    "    p : int\n",
    "        The polynomial order.\n",
    "    '''\n",
    "    \n",
    "    # an idea of how the fit will vary outside the range of the data points\n",
    "    x = np.arange(min_x - 15, max_x + 25, 0.05).reshape(-1, 1)\n",
    "\n",
    "    # Map the X values\n",
    "    X_poly = getPolynomialFeatures(x, p)\n",
    "    X_poly -= mu\n",
    "    X_poly /= sigma\n",
    "\n",
    "    # Add ones\n",
    "    X_poly = np.concatenate([np.ones((x.shape[0], 1)), X_poly], axis=1)\n",
    "\n",
    "    # Plot\n",
    "    plt.plot(x, np.dot(X_poly, theta), '--', lw=2)"
   ]
  },
  {
   "cell_type": "code",
   "execution_count": 550,
   "id": "7764a8a6",
   "metadata": {},
   "outputs": [
    {
     "name": "stdout",
     "output_type": "stream",
     "text": [
      "Polynomial Regression (lambda = 0.000000)\n",
      "\n",
      "# Training Examples\tTrain Error\tCross Validation Error\n",
      "  \t1\t\t0.000000\t160.721900\n",
      "  \t2\t\t0.000000\t160.121510\n",
      "  \t3\t\t0.000000\t61.755005\n",
      "  \t4\t\t0.000000\t61.928895\n",
      "  \t5\t\t0.000000\t6.597863\n",
      "  \t6\t\t0.000000\t10.643774\n",
      "  \t7\t\t0.000246\t25.813454\n",
      "  \t8\t\t0.065029\t8.953305\n",
      "  \t9\t\t0.000242\t32.197211\n",
      "  \t10\t\t0.077125\t7.290683\n",
      "  \t11\t\t0.037891\t25.372612\n",
      "  \t12\t\t0.041146\t18.384132\n"
     ]
    },
    {
     "data": {
      "image/png": "[encoded data removed]",
      "text/plain": [
       "<Figure size 432x288 with 1 Axes>"
      ]
     },
     "metadata": {
      "needs_background": "light"
     },
     "output_type": "display_data"
    },
    {
     "data": {
      "image/png": "[encoded data removed]",
      "text/plain": [
       "<Figure size 432x288 with 1 Axes>"
      ]
     },
     "metadata": {
      "needs_background": "light"
     },
     "output_type": "display_data"
    }
   ],
   "source": [
    "lambda_ = 0\n",
    "theta = trainLinearReg(X_poly, y_train,\n",
    "                             lambda_, maxiter=55)\n",
    "\n",
    "# Plot training data and fit\n",
    "plt.plot(X_train, y_train, 'ro', ms=10, mew=1.5, mec='k')\n",
    "\n",
    "plotFit(np.min(X), np.max(X), mu, sigma, theta, p)\n",
    "\n",
    "plt.xlabel('Change in water level (x)')\n",
    "plt.ylabel('Water flowing out of the dam (y)')\n",
    "plt.title('Polynomial Regression Fit (lambda = %f)' % lambda_)\n",
    "plt.ylim([-20, 50])\n",
    "\n",
    "plt.figure()\n",
    "error_train, error_val = learningCurve(X_poly, y_train, X_poly_val, y_val, lambda_)\n",
    "plt.plot(np.arange(1, 1+m), error_train, np.arange(1, 1+m), error_val)\n",
    "\n",
    "plt.title('Polynomial Regression Learning Curve (lambda = %f)' % lambda_)\n",
    "plt.xlabel('Number of training examples')\n",
    "plt.ylabel('Error')\n",
    "plt.axis([0, 13, 0, 100])\n",
    "plt.legend(['Train', 'Cross Validation'])\n",
    "\n",
    "print('Polynomial Regression (lambda = %f)\\n' % lambda_)\n",
    "print('# Training Examples\\tTrain Error\\tCross Validation Error')\n",
    "for i in range(m):\n",
    "    print('  \\t%d\\t\\t%f\\t%f' % (i+1, error_train[i], error_val[i]))"
   ]
  },
  {
   "cell_type": "code",
   "execution_count": null,
   "id": "ce196db0",
   "metadata": {},
   "outputs": [],
   "source": []
  }
 ],
 "metadata": {
  "kernelspec": {
   "display_name": "Python 3 (ipykernel)",
   "language": "python",
   "name": "python3"
  },
  "language_info": {
   "codemirror_mode": {
    "name": "ipython",
    "version": 3
   },
   "file_extension": ".py",
   "mimetype": "text/x-python",
   "name": "python",
   "nbconvert_exporter": "python",
   "pygments_lexer": "ipython3",
   "version": "3.9.7"
  }
 },
 "nbformat": 4,
 "nbformat_minor": 5
}
